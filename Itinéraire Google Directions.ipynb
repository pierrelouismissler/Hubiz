{
 "cells": [
  {
   "cell_type": "code",
   "execution_count": 256,
   "metadata": {},
   "outputs": [],
   "source": [
    "import requests\n",
    "import json\n",
    "import pandas as pd\n",
    "import joblib\n",
    "import yaml"
   ]
  },
  {
   "cell_type": "code",
   "execution_count": 257,
   "metadata": {},
   "outputs": [],
   "source": [
    "with open(r\"C:\\Users\\pierr\\Google Drive\\UC BERKELEY MEng\\Hackathon_gpseo\\config.yml\", 'r') as stream:\n",
    "    try:\n",
    "        cfg = yaml.safe_load(stream)\n",
    "        #print(cfg)\n",
    "    except yaml.YAMLError as exc:\n",
    "        print(exc)\n",
    "\n",
    "key_google = cfg[\"key\"]"
   ]
  },
  {
   "cell_type": "code",
   "execution_count": 258,
   "metadata": {},
   "outputs": [],
   "source": [
    "PARAMS = {'origin':\"48.904416, 1.947195\",\n",
    "          'destination':\"48.946238, 1.927934\",\n",
    "          'waypoints' : 'optimize:true|48.939054,1.910089|48.947359,1.918017|48.947953,1.935756|',\n",
    "          'key': key_google}\n",
    "\n",
    "response = requests.get('https://maps.googleapis.com/maps/api/directions/json', params=PARAMS)"
   ]
  },
  {
   "cell_type": "code",
   "execution_count": null,
   "metadata": {},
   "outputs": [],
   "source": []
  },
  {
   "cell_type": "code",
   "execution_count": 259,
   "metadata": {},
   "outputs": [
    {
     "data": {
      "text/plain": [
       "{'geocoded_waypoints': [{'geocoder_status': 'OK',\n",
       "   'place_id': 'ChIJhYsXUbWP5kcRMCd_t_BqNCE',\n",
       "   'types': ['route']},\n",
       "  {'geocoder_status': 'OK',\n",
       "   'place_id': 'ChIJlcq2LPGR5kcRsBCXXIETYFs',\n",
       "   'types': ['route']},\n",
       "  {'geocoder_status': 'OK',\n",
       "   'place_id': 'ChIJMXwreQGS5kcRGHHZ2h4RiBA',\n",
       "   'types': ['establishment', 'point_of_interest']},\n",
       "  {'geocoder_status': 'OK',\n",
       "   'place_id': 'ChIJMRRTGfyN5kcRX5PK--2Xqpc',\n",
       "   'types': ['establishment',\n",
       "    'food',\n",
       "    'furniture_store',\n",
       "    'home_goods_store',\n",
       "    'point_of_interest',\n",
       "    'store']},\n",
       "  {'geocoder_status': 'OK',\n",
       "   'place_id': 'ChIJG9WpTf6N5kcRT2iDi5zGICk',\n",
       "   'types': ['street_address']}],\n",
       " 'routes': [{'bounds': {'northeast': {'lat': 48.9482993, 'lng': 1.9471986},\n",
       "    'southwest': {'lat': 48.9022772, 'lng': 1.9010169}},\n",
       "   'copyrights': 'Map data ©2019',\n",
       "   'legs': [{'distance': {'text': '7.4 km', 'value': 7395},\n",
       "     'duration': {'text': '13 mins', 'value': 787},\n",
       "     'end_address': 'Les Préaux, 78920 Ecquevilly, France',\n",
       "     'end_location': {'lat': 48.9389122, 'lng': 1.9101793},\n",
       "     'start_address': 'Route des Bergeries, 78630 Orgeval, France',\n",
       "     'start_location': {'lat': 48.90440479999999, 'lng': 1.9471986},\n",
       "     'steps': [{'distance': {'text': '0.5 km', 'value': 548},\n",
       "       'duration': {'text': '1 min', 'value': 45},\n",
       "       'end_location': {'lat': 48.9022772, 'lng': 1.941615},\n",
       "       'html_instructions': 'Head <b>west</b> on <b>Route des Bergeries</b> toward <b>Route Royale</b>',\n",
       "       'polyline': {'points': 'osniH_i{J?DDp@Bp@@VBZB|@@PBl@Dn@Dt@Dv@DbA@XD~@F|AB^Bh@?JFhA@J@LHb@Nh@P`@R^ZXJJx@PbAH@@v@FNBL@F@JH'},\n",
       "       'start_location': {'lat': 48.90440479999999, 'lng': 1.9471986},\n",
       "       'travel_mode': 'DRIVING'},\n",
       "      {'distance': {'text': '4.2 km', 'value': 4222},\n",
       "       'duration': {'text': '6 mins', 'value': 381},\n",
       "       'end_location': {'lat': 48.9284162, 'lng': 1.9010209},\n",
       "       'html_instructions': 'Turn <b>right</b> onto <b>Route Royale</b>',\n",
       "       'maneuver': 'turn-right',\n",
       "       'polyline': {'points': 'gfniHafzJUlAm@tCAFMn@SfA_A~Ey@fEeBlJQ~@[bBQx@ITM^KRKPSTKLQRUTQRSRQTQNORSTWXUVQPQTQPORKLQROPKJMN_@d@UV[^A@m@v@IHONKNONQTQPWZWXOP_@b@SVUVY\\\\a@b@g@l@e@j@e@h@ONa@f@e@f@a@d@a@d@QRYZm@p@w@~@}@dAk@p@g@l@q@t@IJi@l@Y\\\\a@d@QPORSRQTQRSTWZm@r@G@MLq@n@CBYZo@|@GHGLKJQRORIHYZMPY^QPoCbDUVwAdBeBjBUXGHORUZ_@v@yAdDUf@CH_AvByAlDIPWn@qBrEcA~B_@|@aAxBo@zAQ`@CHcA~Be@fAqAbCeBfDwB|DOXWh@a@r@_BzCs@rAaB|Ci@bAq@nAeArBs@rAw@xAk@dAqCnF_D~F_@p@ABUb@Yh@mA|Bg@`Ao@jAEDCDIDKFWLW?'},\n",
       "       'start_location': {'lat': 48.9022772, 'lng': 1.941615},\n",
       "       'travel_mode': 'DRIVING'},\n",
       "      {'distance': {'text': '1.6 km', 'value': 1605},\n",
       "       'duration': {'text': '2 mins', 'value': 117},\n",
       "       'end_location': {'lat': 48.9401293, 'lng': 1.9137669},\n",
       "       'html_instructions': '<b>Route Royale</b> turns slightly <b>right</b> and becomes <b>Rue des Alluets</b>',\n",
       "       'polyline': {'points': 'sisiHkhrJc@a@cBcBQOOOYYWWe@c@oBiBeAcAuAoAEG}@y@y@u@u@y@GEq@q@gAcAGGmDeDgAcA_FwEy@u@a@a@QS_@e@cAwAcCiDa@k@wAsBaCeDuC_EgAyAsEoG'},\n",
       "       'start_location': {'lat': 48.9284162, 'lng': 1.9010209},\n",
       "       'travel_mode': 'DRIVING'},\n",
       "      {'distance': {'text': '0.5 km', 'value': 483},\n",
       "       'duration': {'text': '2 mins', 'value': 134},\n",
       "       'end_location': {'lat': 48.939376, 'lng': 1.907316},\n",
       "       'html_instructions': 'Sharp <b>left</b> onto <b>Les Préaux</b>',\n",
       "       'maneuver': 'turn-sharp-left',\n",
       "       'polyline': {'points': 'yruiHaxtJ@Z@L?J@DJtAR~@BHJf@Hd@@JJr@DR@`@@b@@dA@LRzAFb@FfABT?^@j@DvB@^BbC?t@@r@@`A'},\n",
       "       'start_location': {'lat': 48.9401293, 'lng': 1.9137669},\n",
       "       'travel_mode': 'DRIVING'},\n",
       "      {'distance': {'text': '0.1 km', 'value': 123},\n",
       "       'duration': {'text': '1 min', 'value': 30},\n",
       "       'end_location': {'lat': 48.9389988, 'lng': 1.9057317},\n",
       "       'html_instructions': 'Slight <b>left</b>',\n",
       "       'maneuver': 'turn-slight-left',\n",
       "       'polyline': {'points': 'cnuiHwosJJ~@VzA@H\\\\fBFn@'},\n",
       "       'start_location': {'lat': 48.939376, 'lng': 1.907316},\n",
       "       'travel_mode': 'DRIVING'},\n",
       "      {'distance': {'text': '0.2 km', 'value': 154},\n",
       "       'duration': {'text': '1 min', 'value': 37},\n",
       "       'end_location': {'lat': 48.938039, 'lng': 1.906893},\n",
       "       'html_instructions': 'Sharp <b>left</b>',\n",
       "       'maneuver': 'turn-sharp-left',\n",
       "       'polyline': {'points': 'wkuiHyesJBQ?AD[@GHu@Hs@TIRILCb@MFCXK`@O'},\n",
       "       'start_location': {'lat': 48.9389988, 'lng': 1.9057317},\n",
       "       'travel_mode': 'DRIVING'},\n",
       "      {'distance': {'text': '0.3 km', 'value': 260},\n",
       "       'duration': {'text': '1 min', 'value': 43},\n",
       "       'end_location': {'lat': 48.9389122, 'lng': 1.9101793},\n",
       "       'html_instructions': 'Turn <b>left</b><div style=\"font-size:0.9em\">Destination will be on the left</div>',\n",
       "       'maneuver': 'turn-left',\n",
       "       'polyline': {'points': 'weuiHamsJAIMq@CI]uAAAMo@G[CWIs@C]EWS{AO{@Oq@AEKm@Ig@'},\n",
       "       'start_location': {'lat': 48.938039, 'lng': 1.906893},\n",
       "       'travel_mode': 'DRIVING'}],\n",
       "     'traffic_speed_entry': [],\n",
       "     'via_waypoint': []},\n",
       "    {'distance': {'text': '2.0 km', 'value': 1996},\n",
       "     'duration': {'text': '8 mins', 'value': 479},\n",
       "     'end_address': 'RD113 Borne kimométrique 35, 78920 Ecquevilly, France',\n",
       "     'end_location': {'lat': 48.94739610000001, 'lng': 1.9178411},\n",
       "     'start_address': 'Les Préaux, 78920 Ecquevilly, France',\n",
       "     'start_location': {'lat': 48.9389122, 'lng': 1.9101793},\n",
       "     'steps': [{'distance': {'text': '0.3 km', 'value': 260},\n",
       "       'duration': {'text': '1 min', 'value': 36},\n",
       "       'end_location': {'lat': 48.938039, 'lng': 1.906893},\n",
       "       'html_instructions': 'Head <b>southwest</b>',\n",
       "       'polyline': {'points': 'ekuiHsatJHf@Jl@@DNp@Nz@RzADVB\\\\Hr@BVFZLn@@@\\\\tABHLp@@H'},\n",
       "       'start_location': {'lat': 48.9389122, 'lng': 1.9101793},\n",
       "       'travel_mode': 'DRIVING'},\n",
       "      {'distance': {'text': '0.2 km', 'value': 154},\n",
       "       'duration': {'text': '1 min', 'value': 38},\n",
       "       'end_location': {'lat': 48.9389988, 'lng': 1.9057317},\n",
       "       'html_instructions': 'Turn <b>right</b>',\n",
       "       'maneuver': 'turn-right',\n",
       "       'polyline': {'points': 'weuiHamsJa@NYJGBc@LMBSHUHIr@It@AFEZ?@CP'},\n",
       "       'start_location': {'lat': 48.938039, 'lng': 1.906893},\n",
       "       'travel_mode': 'DRIVING'},\n",
       "      {'distance': {'text': '0.4 km', 'value': 440},\n",
       "       'duration': {'text': '2 mins', 'value': 134},\n",
       "       'end_location': {'lat': 48.942096, 'lng': 1.909293},\n",
       "       'html_instructions': 'Turn <b>right</b>',\n",
       "       'maneuver': 'turn-right',\n",
       "       'polyline': {'points': 'wkuiHyesJUQa@[[[][YYQKc@SKIGCIKKWi@iAGQCKEWAEAIEMEKIMoAcByAsBi@m@KKMKECKEGCOKQE'},\n",
       "       'start_location': {'lat': 48.9389988, 'lng': 1.9057317},\n",
       "       'travel_mode': 'DRIVING'},\n",
       "      {'distance': {'text': '0.5 km', 'value': 469},\n",
       "       'duration': {'text': '2 mins', 'value': 141},\n",
       "       'end_location': {'lat': 48.94184, 'lng': 1.915239},\n",
       "       'html_instructions': 'Turn <b>right</b>',\n",
       "       'maneuver': 'turn-right',\n",
       "       'polyline': {'points': 'c_viHa|sJd@w@BCHQBK@I?E@k@C{@Au@?YA[AKAi@Au@Aw@A_@CmAAY?U?EGu@Cg@AKKs@Ks@CWIc@Gi@AGAW?W?IBYJa@N_@n@iA'},\n",
       "       'start_location': {'lat': 48.942096, 'lng': 1.909293},\n",
       "       'travel_mode': 'DRIVING'},\n",
       "      {'distance': {'text': '0.7 km', 'value': 673},\n",
       "       'duration': {'text': '2 mins', 'value': 130},\n",
       "       'end_location': {'lat': 48.94739610000001, 'lng': 1.9178411},\n",
       "       'html_instructions': 'Turn <b>left</b><div style=\"font-size:0.9em\">Destination will be on the right</div>',\n",
       "       'maneuver': 'turn-left',\n",
       "       'polyline': {'points': 'o}uiHgauJg@KeAU_@IOEGCGECEQSkAoBW_@UYYOA?_Cm@IEGEMOECMGkASqBa@ICUIEEEGSg@MGw@Q}Be@MBa@VOJO@A?MAUGQG'},\n",
       "       'start_location': {'lat': 48.94184, 'lng': 1.915239},\n",
       "       'travel_mode': 'DRIVING'}],\n",
       "     'traffic_speed_entry': [],\n",
       "     'via_waypoint': []},\n",
       "    {'distance': {'text': '1.6 km', 'value': 1616},\n",
       "     'duration': {'text': '3 mins', 'value': 193},\n",
       "     'end_address': '27 Rue des Fontenelles, 78920 Ecquevilly, France',\n",
       "     'end_location': {'lat': 48.9476637, 'lng': 1.935288},\n",
       "     'start_address': 'RD113 Borne kimométrique 35, 78920 Ecquevilly, France',\n",
       "     'start_location': {'lat': 48.94739610000001, 'lng': 1.9178411},\n",
       "     'steps': [{'distance': {'text': '0.1 km', 'value': 107},\n",
       "       'duration': {'text': '1 min', 'value': 20},\n",
       "       'end_location': {'lat': 48.9482993, 'lng': 1.9183339},\n",
       "       'html_instructions': 'Head <b>north</b> toward <b>La Couture</b>',\n",
       "       'polyline': {'points': 'g`wiHoquJOGAA_@QSIo@UKEUG[W'},\n",
       "       'start_location': {'lat': 48.94739610000001, 'lng': 1.9178411},\n",
       "       'travel_mode': 'DRIVING'},\n",
       "      {'distance': {'text': '0.9 km', 'value': 879},\n",
       "       'duration': {'text': '1 min', 'value': 83},\n",
       "       'end_location': {'lat': 48.9453144, 'lng': 1.9294068},\n",
       "       'html_instructions': 'Turn <b>right</b> onto <b>D113</b>',\n",
       "       'maneuver': 'turn-right',\n",
       "       'polyline': {'points': '{ewiHqtuJPm@Rq@T}@Ns@p@{CPu@ViA`@kBb@kBR}@b@gBPeAp@{CNw@Pu@Lo@Hg@Fa@BSHg@Dg@J}@H}@?AJoAFi@Dg@Dg@f@kFLiAB[D]DUBMBMDMJU'},\n",
       "       'start_location': {'lat': 48.9482993, 'lng': 1.9183339},\n",
       "       'travel_mode': 'DRIVING'},\n",
       "      {'distance': {'text': '0.5 km', 'value': 457},\n",
       "       'duration': {'text': '1 min', 'value': 52},\n",
       "       'end_location': {'lat': 48.9467519, 'lng': 1.93362},\n",
       "       'html_instructions': 'At the roundabout, take the <b>2nd</b> exit onto <b>Rue du Grand Étang</b>',\n",
       "       'maneuver': 'roundabout-right',\n",
       "       'polyline': {'points': 'esviHyywJBADADEBCBEBGBE@G@I@G?G?I?GAIAGAICECGCECCCEEACCEAA?C?A?C?A?C?A@C?MGECEEEEKM[a@GKMMYQQAU?SEOGACKIKSGUAEAGCS?U?QBQ?GFOFSJSVi@F[BG@U@UAS?OEQAGWw@MY[}@QS'},\n",
       "       'start_location': {'lat': 48.9453144, 'lng': 1.9294068},\n",
       "       'travel_mode': 'DRIVING'},\n",
       "      {'distance': {'text': '0.2 km', 'value': 173},\n",
       "       'duration': {'text': '1 min', 'value': 38},\n",
       "       'end_location': {'lat': 48.9476637, 'lng': 1.935288},\n",
       "       'html_instructions': 'Turn <b>right</b> onto <b>Rue des Fontenelles</b><div style=\"font-size:0.9em\">Destination will be on the right</div>',\n",
       "       'maneuver': 'turn-right',\n",
       "       'polyline': {'points': 'e|viHctxJ?UCK[_AqAyDSg@EKCEECMAIBGH'},\n",
       "       'start_location': {'lat': 48.9467519, 'lng': 1.93362},\n",
       "       'travel_mode': 'DRIVING'}],\n",
       "     'traffic_speed_entry': [],\n",
       "     'via_waypoint': []},\n",
       "    {'distance': {'text': '0.7 km', 'value': 736},\n",
       "     'duration': {'text': '2 mins', 'value': 101},\n",
       "     'end_address': '2 Rue de la République, 78920 Ecquevilly, France',\n",
       "     'end_location': {'lat': 48.9463319, 'lng': 1.9280456},\n",
       "     'start_address': '27 Rue des Fontenelles, 78920 Ecquevilly, France',\n",
       "     'start_location': {'lat': 48.9476637, 'lng': 1.935288},\n",
       "     'steps': [{'distance': {'text': '0.2 km', 'value': 173},\n",
       "       'duration': {'text': '1 min', 'value': 26},\n",
       "       'end_location': {'lat': 48.9467519, 'lng': 1.93362},\n",
       "       'html_instructions': 'Head <b>southeast</b> on <b>Rue des Fontenelles</b> toward <b>Rue du Grand Étang</b>',\n",
       "       'polyline': {'points': '{awiHq~xJFIHCL@DBBDDJRf@pAxDZ~@BJ?T'},\n",
       "       'start_location': {'lat': 48.9476637, 'lng': 1.935288},\n",
       "       'travel_mode': 'DRIVING'},\n",
       "      {'distance': {'text': '0.4 km', 'value': 366},\n",
       "       'duration': {'text': '1 min', 'value': 46},\n",
       "       'end_location': {'lat': 48.9456094, 'lng': 1.9299438},\n",
       "       'html_instructions': 'Turn <b>left</b> onto <b>Rue du Grand Étang</b>',\n",
       "       'maneuver': 'turn-left',\n",
       "       'polyline': {'points': 'e|viHctxJPRZ|@LXVv@@FDP?N@RATATCFGZWh@KRGRGN?FCP?P?TBR@F@DFTJRJH@BNFRDT?P@XPLLFJDJHZBDFTDPD\\\\'},\n",
       "       'start_location': {'lat': 48.9467519, 'lng': 1.93362},\n",
       "       'travel_mode': 'DRIVING'},\n",
       "      {'distance': {'text': '77 m', 'value': 77},\n",
       "       'duration': {'text': '1 min', 'value': 8},\n",
       "       'end_location': {'lat': 48.9455529, 'lng': 1.9289487},\n",
       "       'html_instructions': 'At the roundabout, take the <b>2nd</b> exit onto <b>D113</b> heading to <b>Aubergenville</b>/<wbr/><b>Flins s/<wbr/> Seine</b>/<wbr/><b>Bouafle</b>/<wbr/><b>Ecquevilly-Centre</b>',\n",
       "       'maneuver': 'roundabout-right',\n",
       "       'polyline': {'points': 'auviHc}wJ?@A@?B?@?@AB?@?@?F?F?F?D@F@D@F@DJN@`@?RAPC^'},\n",
       "       'start_location': {'lat': 48.9456094, 'lng': 1.9299438},\n",
       "       'travel_mode': 'DRIVING'},\n",
       "      {'distance': {'text': '80 m', 'value': 80},\n",
       "       'duration': {'text': '1 min', 'value': 13},\n",
       "       'end_location': {'lat': 48.9461112, 'lng': 1.9284761},\n",
       "       'html_instructions': 'Slight <b>right</b> toward <b>Rue de la République</b>',\n",
       "       'maneuver': 'turn-slight-right',\n",
       "       'polyline': {'points': 'utviH}vwJSj@?@IRMPQPKBK@KCMI'},\n",
       "       'start_location': {'lat': 48.9455529, 'lng': 1.9289487},\n",
       "       'travel_mode': 'DRIVING'},\n",
       "      {'distance': {'text': '40 m', 'value': 40},\n",
       "       'duration': {'text': '1 min', 'value': 8},\n",
       "       'end_location': {'lat': 48.9463319, 'lng': 1.9280456},\n",
       "       'html_instructions': 'Turn <b>left</b> onto <b>Rue de la République</b><div style=\"font-size:0.9em\">Destination will be on the left</div>',\n",
       "       'maneuver': 'turn-left',\n",
       "       'polyline': {'points': 'exviH_twJk@tA'},\n",
       "       'start_location': {'lat': 48.9461112, 'lng': 1.9284761},\n",
       "       'travel_mode': 'DRIVING'}],\n",
       "     'traffic_speed_entry': [],\n",
       "     'via_waypoint': []}],\n",
       "   'overview_polyline': {'points': 'osniH_i{JdAtULjCJp@`@jAR^ZXJJx@PdAJfAJTBJHUlAo@|Ca@vBqFtYm@|CWt@Wd@_@b@mApAyChDaHfIuLhNoBzBoEhFkFfGkArAeAnAUNu@r@iAxAOV]^aAjAqElF}DpE]b@e@n@yB|EsDvIwEtKcDtHgAhCe@fAqAbC}EdJg@bAwG`MkRj^qAbCkDpGq@`@W?c@a@uBsBgBeBqGeGuDoDoHcHcKsJq@y@gEaGqKeO{GiJBh@@PJtAR~@Np@Jp@PfABdABrAZ~BJ|A@jAFvCBxDBtBb@zC^pBFn@BQD]J}@Hs@TI`@MfBm@O{@a@_B[eBg@eEm@aDIg@Hf@Lr@^lBXrBLpAJr@p@pCNz@{@ZmA^UHIr@K|@E\\\\CPUQ}@w@w@u@u@_@SMUc@q@{AMs@KYyAqBcCaDYWi@YQEd@w@LUDU@q@GgDGcDG}CMoBe@cDIq@Ao@Bc@ZaAn@iAg@KeB_@WIKK}AcCm@y@[OiCs@[YyA[{Be@[OYo@MGw@Q}Be@MBq@b@Q@c@IQGeAe@{@[UG[Wd@_Bd@qB|BgKv@iDb@gBPeA`AsE^eB^eCz@oJ~@oJR_AJUBAJGNWDa@Cc@M]QOMAK@QGKIu@aAg@_@g@Ac@MMMSi@CMCi@Bc@FWRg@Vi@F[D]?i@Ea@cAwCQS?U_@kAeBaFIQSEQLPMRDHPdB`F^jA?TPRh@vAX~@D`@?h@E\\\\GZWh@Sf@GVCb@Bh@BLRh@LLb@Lf@@f@^LVL`@Lf@D^AHAN@\\\\BLLT@t@Ep@Sl@Wd@QPKBWAMIk@tA'},\n",
       "   'summary': 'Route Royale',\n",
       "   'warnings': [],\n",
       "   'waypoint_order': [0, 1, 2]}],\n",
       " 'status': 'OK'}"
      ]
     },
     "execution_count": 259,
     "metadata": {},
     "output_type": "execute_result"
    }
   ],
   "source": [
    "d = json.loads(response.text)\n",
    "d"
   ]
  },
  {
   "cell_type": "code",
   "execution_count": 141,
   "metadata": {},
   "outputs": [
    {
     "data": {
      "text/plain": [
       "{'lat': 48.90440479999999, 'lng': 1.9471986}"
      ]
     },
     "execution_count": 141,
     "metadata": {},
     "output_type": "execute_result"
    }
   ],
   "source": [
    "d['routes'][0]['legs'][0]['start_location']"
   ]
  },
  {
   "cell_type": "code",
   "execution_count": 60,
   "metadata": {},
   "outputs": [
    {
     "data": {
      "text/plain": [
       "{'lat': 48.9284162, 'lng': 1.9010209}"
      ]
     },
     "execution_count": 60,
     "metadata": {},
     "output_type": "execute_result"
    }
   ],
   "source": [
    "d['routes'][0]['legs'][0]['steps'][1]['end_location']"
   ]
  },
  {
   "cell_type": "code",
   "execution_count": 61,
   "metadata": {},
   "outputs": [
    {
     "data": {
      "text/plain": [
       "7"
      ]
     },
     "execution_count": 61,
     "metadata": {},
     "output_type": "execute_result"
    }
   ],
   "source": [
    "len(d['routes'][0]['legs'][0]['steps'])"
   ]
  },
  {
   "cell_type": "code",
   "execution_count": 212,
   "metadata": {},
   "outputs": [
    {
     "data": {
      "text/plain": [
       "{'distance': {'text': '7.4 km', 'value': 7395},\n",
       " 'duration': {'text': '13 mins', 'value': 787},\n",
       " 'end_address': 'Les Préaux, 78920 Ecquevilly, France',\n",
       " 'end_location': {'lat': 48.9389122, 'lng': 1.9101793},\n",
       " 'start_address': 'Route des Bergeries, 78630 Orgeval, France',\n",
       " 'start_location': {'lat': 48.90440479999999, 'lng': 1.9471986},\n",
       " 'steps': [{'distance': {'text': '0.5 km', 'value': 548},\n",
       "   'duration': {'text': '1 min', 'value': 45},\n",
       "   'end_location': {'lat': 48.9022772, 'lng': 1.941615},\n",
       "   'html_instructions': 'Head <b>west</b> on <b>Route des Bergeries</b> toward <b>Route Royale</b>',\n",
       "   'polyline': {'points': 'osniH_i{J?DDp@Bp@@VBZB|@@PBl@Dn@Dt@Dv@DbA@XD~@F|AB^Bh@?JFhA@J@LHb@Nh@P`@R^ZXJJx@PbAH@@v@FNBL@F@JH'},\n",
       "   'start_location': {'lat': 48.90440479999999, 'lng': 1.9471986},\n",
       "   'travel_mode': 'DRIVING'},\n",
       "  {'distance': {'text': '4.2 km', 'value': 4222},\n",
       "   'duration': {'text': '6 mins', 'value': 381},\n",
       "   'end_location': {'lat': 48.9284162, 'lng': 1.9010209},\n",
       "   'html_instructions': 'Turn <b>right</b> onto <b>Route Royale</b>',\n",
       "   'maneuver': 'turn-right',\n",
       "   'polyline': {'points': 'gfniHafzJUlAm@tCAFMn@SfA_A~Ey@fEeBlJQ~@[bBQx@ITM^KRKPSTKLQRUTQRSRQTQNORSTWXUVQPQTQPORKLQROPKJMN_@d@UV[^A@m@v@IHONKNONQTQPWZWXOP_@b@SVUVY\\\\a@b@g@l@e@j@e@h@ONa@f@e@f@a@d@a@d@QRYZm@p@w@~@}@dAk@p@g@l@q@t@IJi@l@Y\\\\a@d@QPORSRQTQRSTWZm@r@G@MLq@n@CBYZo@|@GHGLKJQRORIHYZMPY^QPoCbDUVwAdBeBjBUXGHORUZ_@v@yAdDUf@CH_AvByAlDIPWn@qBrEcA~B_@|@aAxBo@zAQ`@CHcA~Be@fAqAbCeBfDwB|DOXWh@a@r@_BzCs@rAaB|Ci@bAq@nAeArBs@rAw@xAk@dAqCnF_D~F_@p@ABUb@Yh@mA|Bg@`Ao@jAEDCDIDKFWLW?'},\n",
       "   'start_location': {'lat': 48.9022772, 'lng': 1.941615},\n",
       "   'travel_mode': 'DRIVING'},\n",
       "  {'distance': {'text': '1.6 km', 'value': 1605},\n",
       "   'duration': {'text': '2 mins', 'value': 117},\n",
       "   'end_location': {'lat': 48.9401293, 'lng': 1.9137669},\n",
       "   'html_instructions': '<b>Route Royale</b> turns slightly <b>right</b> and becomes <b>Rue des Alluets</b>',\n",
       "   'polyline': {'points': 'sisiHkhrJc@a@cBcBQOOOYYWWe@c@oBiBeAcAuAoAEG}@y@y@u@u@y@GEq@q@gAcAGGmDeDgAcA_FwEy@u@a@a@QS_@e@cAwAcCiDa@k@wAsBaCeDuC_EgAyAsEoG'},\n",
       "   'start_location': {'lat': 48.9284162, 'lng': 1.9010209},\n",
       "   'travel_mode': 'DRIVING'},\n",
       "  {'distance': {'text': '0.5 km', 'value': 483},\n",
       "   'duration': {'text': '2 mins', 'value': 134},\n",
       "   'end_location': {'lat': 48.939376, 'lng': 1.907316},\n",
       "   'html_instructions': 'Sharp <b>left</b> onto <b>Les Préaux</b>',\n",
       "   'maneuver': 'turn-sharp-left',\n",
       "   'polyline': {'points': 'yruiHaxtJ@Z@L?J@DJtAR~@BHJf@Hd@@JJr@DR@`@@b@@dA@LRzAFb@FfABT?^@j@DvB@^BbC?t@@r@@`A'},\n",
       "   'start_location': {'lat': 48.9401293, 'lng': 1.9137669},\n",
       "   'travel_mode': 'DRIVING'},\n",
       "  {'distance': {'text': '0.1 km', 'value': 123},\n",
       "   'duration': {'text': '1 min', 'value': 30},\n",
       "   'end_location': {'lat': 48.9389988, 'lng': 1.9057317},\n",
       "   'html_instructions': 'Slight <b>left</b>',\n",
       "   'maneuver': 'turn-slight-left',\n",
       "   'polyline': {'points': 'cnuiHwosJJ~@VzA@H\\\\fBFn@'},\n",
       "   'start_location': {'lat': 48.939376, 'lng': 1.907316},\n",
       "   'travel_mode': 'DRIVING'},\n",
       "  {'distance': {'text': '0.2 km', 'value': 154},\n",
       "   'duration': {'text': '1 min', 'value': 37},\n",
       "   'end_location': {'lat': 48.938039, 'lng': 1.906893},\n",
       "   'html_instructions': 'Sharp <b>left</b>',\n",
       "   'maneuver': 'turn-sharp-left',\n",
       "   'polyline': {'points': 'wkuiHyesJBQ?AD[@GHu@Hs@TIRILCb@MFCXK`@O'},\n",
       "   'start_location': {'lat': 48.9389988, 'lng': 1.9057317},\n",
       "   'travel_mode': 'DRIVING'},\n",
       "  {'distance': {'text': '0.3 km', 'value': 260},\n",
       "   'duration': {'text': '1 min', 'value': 43},\n",
       "   'end_location': {'lat': 48.9389122, 'lng': 1.9101793},\n",
       "   'html_instructions': 'Turn <b>left</b><div style=\"font-size:0.9em\">Destination will be on the left</div>',\n",
       "   'maneuver': 'turn-left',\n",
       "   'polyline': {'points': 'weuiHamsJAIMq@CI]uAAAMo@G[CWIs@C]EWS{AO{@Oq@AEKm@Ig@'},\n",
       "   'start_location': {'lat': 48.938039, 'lng': 1.906893},\n",
       "   'travel_mode': 'DRIVING'}],\n",
       " 'traffic_speed_entry': [],\n",
       " 'via_waypoint': []}"
      ]
     },
     "execution_count": 212,
     "metadata": {},
     "output_type": "execute_result"
    }
   ],
   "source": [
    "d['routes'][0]['legs'][0]"
   ]
  },
  {
   "cell_type": "code",
   "execution_count": 241,
   "metadata": {},
   "outputs": [],
   "source": [
    "start_loc = pd.DataFrame(columns=['lat','lon'])\n",
    "end_loc = pd.DataFrame(columns=['lat','lon'])\n",
    "\n",
    "# start_loc.loc[0,'lat'] = d['routes'][0]['legs'][0]['start_location']['lat']\n",
    "# start_loc.loc[0,'lon'] = d['routes'][0]['legs'][0]['start_location']['lng']"
   ]
  },
  {
   "cell_type": "code",
   "execution_count": 242,
   "metadata": {},
   "outputs": [
    {
     "ename": "IndexError",
     "evalue": "list index out of range",
     "output_type": "error",
     "traceback": [
      "\u001b[1;31m---------------------------------------------------------------------------\u001b[0m",
      "\u001b[1;31mIndexError\u001b[0m                                Traceback (most recent call last)",
      "\u001b[1;32m<ipython-input-242-f6da2a8bd820>\u001b[0m in \u001b[0;36m<module>\u001b[1;34m()\u001b[0m\n\u001b[1;32m----> 1\u001b[1;33m \u001b[0mlen\u001b[0m\u001b[1;33m(\u001b[0m\u001b[0md\u001b[0m\u001b[1;33m[\u001b[0m\u001b[1;34m'routes'\u001b[0m\u001b[1;33m]\u001b[0m\u001b[1;33m[\u001b[0m\u001b[1;36m0\u001b[0m\u001b[1;33m]\u001b[0m\u001b[1;33m[\u001b[0m\u001b[1;34m'legs'\u001b[0m\u001b[1;33m]\u001b[0m\u001b[1;33m[\u001b[0m\u001b[1;36m4\u001b[0m\u001b[1;33m]\u001b[0m\u001b[1;33m[\u001b[0m\u001b[1;34m'steps'\u001b[0m\u001b[1;33m]\u001b[0m\u001b[1;33m)\u001b[0m\u001b[1;33m\u001b[0m\u001b[0m\n\u001b[0m",
      "\u001b[1;31mIndexError\u001b[0m: list index out of range"
     ]
    }
   ],
   "source": [
    "len(d['routes'][0]['legs'][4]['steps'])"
   ]
  },
  {
   "cell_type": "code",
   "execution_count": 243,
   "metadata": {},
   "outputs": [],
   "source": [
    "i=0\n",
    "for j in range(len(d['routes'][0]['legs'])):\n",
    "    for k in range(len(d['routes'][0]['legs'][j]['steps'])):\n",
    "        end_loc.loc[i,'lat'] = d['routes'][0]['legs'][j]['steps'][k]['end_location']['lat']\n",
    "        end_loc.loc[i,'lon'] = d['routes'][0]['legs'][j]['steps'][k]['end_location']['lng']\n",
    "        start_loc.loc[i,'lat'] = d['routes'][0]['legs'][j]['steps'][k]['start_location']['lat']\n",
    "        start_loc.loc[i,'lon'] = d['routes'][0]['legs'][j]['steps'][k]['start_location']['lng']\n",
    "        i=i+1\n",
    "    \n",
    "    \n",
    "# end_loc.loc[len(d['routes'][0]['legs'][0]['steps'])+1,'lat'] = d['routes'][0]['legs'][0]['end_location']['lat']\n",
    "# end_loc.loc[len(d['routes'][0]['legs'][0]['steps'])+1,'lon'] = d['routes'][0]['legs'][0]['end_location']['lng']\n"
   ]
  },
  {
   "cell_type": "code",
   "execution_count": 244,
   "metadata": {},
   "outputs": [
    {
     "data": {
      "text/html": [
       "<div>\n",
       "<style scoped>\n",
       "    .dataframe tbody tr th:only-of-type {\n",
       "        vertical-align: middle;\n",
       "    }\n",
       "\n",
       "    .dataframe tbody tr th {\n",
       "        vertical-align: top;\n",
       "    }\n",
       "\n",
       "    .dataframe thead th {\n",
       "        text-align: right;\n",
       "    }\n",
       "</style>\n",
       "<table border=\"1\" class=\"dataframe\">\n",
       "  <thead>\n",
       "    <tr style=\"text-align: right;\">\n",
       "      <th></th>\n",
       "      <th>lat</th>\n",
       "      <th>lon</th>\n",
       "    </tr>\n",
       "  </thead>\n",
       "  <tbody>\n",
       "    <tr>\n",
       "      <th>0</th>\n",
       "      <td>48.9044</td>\n",
       "      <td>1.9472</td>\n",
       "    </tr>\n",
       "    <tr>\n",
       "      <th>1</th>\n",
       "      <td>48.9023</td>\n",
       "      <td>1.94162</td>\n",
       "    </tr>\n",
       "    <tr>\n",
       "      <th>2</th>\n",
       "      <td>48.9284</td>\n",
       "      <td>1.90102</td>\n",
       "    </tr>\n",
       "    <tr>\n",
       "      <th>3</th>\n",
       "      <td>48.9401</td>\n",
       "      <td>1.91377</td>\n",
       "    </tr>\n",
       "    <tr>\n",
       "      <th>4</th>\n",
       "      <td>48.9394</td>\n",
       "      <td>1.90732</td>\n",
       "    </tr>\n",
       "    <tr>\n",
       "      <th>5</th>\n",
       "      <td>48.939</td>\n",
       "      <td>1.90573</td>\n",
       "    </tr>\n",
       "    <tr>\n",
       "      <th>6</th>\n",
       "      <td>48.938</td>\n",
       "      <td>1.90689</td>\n",
       "    </tr>\n",
       "    <tr>\n",
       "      <th>7</th>\n",
       "      <td>48.9389</td>\n",
       "      <td>1.91018</td>\n",
       "    </tr>\n",
       "    <tr>\n",
       "      <th>8</th>\n",
       "      <td>48.938</td>\n",
       "      <td>1.90689</td>\n",
       "    </tr>\n",
       "    <tr>\n",
       "      <th>9</th>\n",
       "      <td>48.939</td>\n",
       "      <td>1.90573</td>\n",
       "    </tr>\n",
       "    <tr>\n",
       "      <th>10</th>\n",
       "      <td>48.9421</td>\n",
       "      <td>1.90929</td>\n",
       "    </tr>\n",
       "    <tr>\n",
       "      <th>11</th>\n",
       "      <td>48.9418</td>\n",
       "      <td>1.91524</td>\n",
       "    </tr>\n",
       "    <tr>\n",
       "      <th>12</th>\n",
       "      <td>48.9474</td>\n",
       "      <td>1.91784</td>\n",
       "    </tr>\n",
       "    <tr>\n",
       "      <th>13</th>\n",
       "      <td>48.9483</td>\n",
       "      <td>1.91833</td>\n",
       "    </tr>\n",
       "    <tr>\n",
       "      <th>14</th>\n",
       "      <td>48.9453</td>\n",
       "      <td>1.92941</td>\n",
       "    </tr>\n",
       "    <tr>\n",
       "      <th>15</th>\n",
       "      <td>48.9468</td>\n",
       "      <td>1.93362</td>\n",
       "    </tr>\n",
       "    <tr>\n",
       "      <th>16</th>\n",
       "      <td>48.9477</td>\n",
       "      <td>1.93529</td>\n",
       "    </tr>\n",
       "    <tr>\n",
       "      <th>17</th>\n",
       "      <td>48.9468</td>\n",
       "      <td>1.93362</td>\n",
       "    </tr>\n",
       "    <tr>\n",
       "      <th>18</th>\n",
       "      <td>48.9456</td>\n",
       "      <td>1.92994</td>\n",
       "    </tr>\n",
       "    <tr>\n",
       "      <th>19</th>\n",
       "      <td>48.9456</td>\n",
       "      <td>1.92895</td>\n",
       "    </tr>\n",
       "    <tr>\n",
       "      <th>20</th>\n",
       "      <td>48.9461</td>\n",
       "      <td>1.92848</td>\n",
       "    </tr>\n",
       "  </tbody>\n",
       "</table>\n",
       "</div>"
      ],
      "text/plain": [
       "        lat      lon\n",
       "0   48.9044   1.9472\n",
       "1   48.9023  1.94162\n",
       "2   48.9284  1.90102\n",
       "3   48.9401  1.91377\n",
       "4   48.9394  1.90732\n",
       "5    48.939  1.90573\n",
       "6    48.938  1.90689\n",
       "7   48.9389  1.91018\n",
       "8    48.938  1.90689\n",
       "9    48.939  1.90573\n",
       "10  48.9421  1.90929\n",
       "11  48.9418  1.91524\n",
       "12  48.9474  1.91784\n",
       "13  48.9483  1.91833\n",
       "14  48.9453  1.92941\n",
       "15  48.9468  1.93362\n",
       "16  48.9477  1.93529\n",
       "17  48.9468  1.93362\n",
       "18  48.9456  1.92994\n",
       "19  48.9456  1.92895\n",
       "20  48.9461  1.92848"
      ]
     },
     "execution_count": 244,
     "metadata": {},
     "output_type": "execute_result"
    }
   ],
   "source": [
    "start_loc"
   ]
  },
  {
   "cell_type": "code",
   "execution_count": 245,
   "metadata": {},
   "outputs": [],
   "source": [
    "def create_list_coord(column_coord_lon,column_coord_lat):\n",
    "    list_point = []\n",
    "    M=[]\n",
    "    for k in range(len(start_loc)):\n",
    "        M=[]\n",
    "        a = column_coord_lon\n",
    "        b = column_coord_lat\n",
    "        M.append(a[k]) \n",
    "        M.append(b[k]) \n",
    "        list_point.append(M)\n",
    "    return list_point"
   ]
  },
  {
   "cell_type": "code",
   "execution_count": 246,
   "metadata": {},
   "outputs": [],
   "source": [
    "list_point_start = create_list_coord(start_loc['lat'], start_loc['lon'])"
   ]
  },
  {
   "cell_type": "code",
   "execution_count": 247,
   "metadata": {},
   "outputs": [
    {
     "data": {
      "text/plain": [
       "[[48.90440479999999, 1.9471986],\n",
       " [48.9022772, 1.941615],\n",
       " [48.9284162, 1.9010209],\n",
       " [48.9401293, 1.9137669],\n",
       " [48.939376, 1.907316],\n",
       " [48.9389988, 1.9057317],\n",
       " [48.938039, 1.906893],\n",
       " [48.9389122, 1.9101793],\n",
       " [48.938039, 1.906893],\n",
       " [48.9389988, 1.9057317],\n",
       " [48.942096, 1.909293],\n",
       " [48.94184, 1.915239],\n",
       " [48.94739610000001, 1.9178411],\n",
       " [48.9482993, 1.9183339],\n",
       " [48.9453144, 1.9294068],\n",
       " [48.9467519, 1.93362],\n",
       " [48.9476637, 1.935288],\n",
       " [48.9467519, 1.93362],\n",
       " [48.9456094, 1.9299438],\n",
       " [48.9455529, 1.9289487],\n",
       " [48.9461112, 1.9284761]]"
      ]
     },
     "execution_count": 247,
     "metadata": {},
     "output_type": "execute_result"
    }
   ],
   "source": [
    "list_point_start"
   ]
  },
  {
   "cell_type": "code",
   "execution_count": 248,
   "metadata": {},
   "outputs": [],
   "source": [
    "def points_dict(somelist):\n",
    "    return {str(somelist.index(x)) : x for x in somelist}"
   ]
  },
  {
   "cell_type": "code",
   "execution_count": 249,
   "metadata": {},
   "outputs": [],
   "source": [
    "#end_loc\n",
    "start_dict = points_dict(list_point_start)"
   ]
  },
  {
   "cell_type": "code",
   "execution_count": 250,
   "metadata": {},
   "outputs": [
    {
     "data": {
      "text/plain": [
       "{'0': [48.90440479999999, 1.9471986],\n",
       " '1': [48.9022772, 1.941615],\n",
       " '2': [48.9284162, 1.9010209],\n",
       " '3': [48.9401293, 1.9137669],\n",
       " '4': [48.939376, 1.907316],\n",
       " '5': [48.9389988, 1.9057317],\n",
       " '6': [48.938039, 1.906893],\n",
       " '7': [48.9389122, 1.9101793],\n",
       " '10': [48.942096, 1.909293],\n",
       " '11': [48.94184, 1.915239],\n",
       " '12': [48.94739610000001, 1.9178411],\n",
       " '13': [48.9482993, 1.9183339],\n",
       " '14': [48.9453144, 1.9294068],\n",
       " '15': [48.9467519, 1.93362],\n",
       " '16': [48.9476637, 1.935288],\n",
       " '18': [48.9456094, 1.9299438],\n",
       " '19': [48.9455529, 1.9289487],\n",
       " '20': [48.9461112, 1.9284761]}"
      ]
     },
     "execution_count": 250,
     "metadata": {},
     "output_type": "execute_result"
    }
   ],
   "source": [
    "start_dict"
   ]
  },
  {
   "cell_type": "code",
   "execution_count": 251,
   "metadata": {},
   "outputs": [
    {
     "data": {
      "text/plain": [
       "['start_dict.jb']"
      ]
     },
     "execution_count": 251,
     "metadata": {},
     "output_type": "execute_result"
    }
   ],
   "source": [
    "joblib.dump(start_loc, 'start_loc.jb')\n",
    "joblib.dump(start_dict, 'start_dict.jb')"
   ]
  },
  {
   "cell_type": "code",
   "execution_count": 253,
   "metadata": {},
   "outputs": [
    {
     "data": {
      "text/plain": [
       "48.9456094"
      ]
     },
     "execution_count": 253,
     "metadata": {},
     "output_type": "execute_result"
    }
   ],
   "source": [
    "start_dict.get(\"18\")[0]"
   ]
  },
  {
   "cell_type": "code",
   "execution_count": null,
   "metadata": {},
   "outputs": [],
   "source": []
  }
 ],
 "metadata": {
  "kernelspec": {
   "display_name": "Python 3",
   "language": "python",
   "name": "python3"
  },
  "language_info": {
   "codemirror_mode": {
    "name": "ipython",
    "version": 3
   },
   "file_extension": ".py",
   "mimetype": "text/x-python",
   "name": "python",
   "nbconvert_exporter": "python",
   "pygments_lexer": "ipython3",
   "version": "3.6.5"
  }
 },
 "nbformat": 4,
 "nbformat_minor": 2
}
